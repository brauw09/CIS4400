{
  "nbformat": 4,
  "nbformat_minor": 0,
  "metadata": {
    "colab": {
      "provenance": [],
      "include_colab_link": true
    },
    "kernelspec": {
      "name": "python3",
      "display_name": "Python 3"
    },
    "language_info": {
      "name": "python"
    }
  },
  "cells": [
    {
      "cell_type": "markdown",
      "metadata": {
        "id": "view-in-github",
        "colab_type": "text"
      },
      "source": [
        "<a href=\"https://colab.research.google.com/github/Syed2422/CIS4400/blob/main/extract.ipynb\" target=\"_parent\"><img src=\"https://colab.research.google.com/assets/colab-badge.svg\" alt=\"Open In Colab\"/></a>"
      ]
    },
    {
      "cell_type": "code",
      "execution_count": null,
      "metadata": {
        "id": "L65ns6kFF-SG"
      },
      "outputs": [],
      "source": [
        "!pip install azure-storage-blob\n",
        "!pip install pymongo"
      ]
    },
    {
      "cell_type": "code",
      "source": [
        "import pandas as pd\n",
        "import pymongo\n",
        "from pymongo import MongoClient\n",
        "from azure.storage.blob import BlobServiceClient, BlobClient, ContainerClient"
      ],
      "metadata": {
        "id": "qJjb6x0yIBf1"
      },
      "execution_count": null,
      "outputs": []
    },
    {
      "cell_type": "code",
      "source": [
        "# read the config file that is json\n",
        "import json\n",
        "with open('config.json') as config_file:\n",
        "    config = json.load(config_file)\n",
        "\n",
        "# read information about the source\n",
        "SOURCE_CONNECTION_STRING = config['SOURCE_CONNECTION_STRING']\n",
        "SOURCE_CONTAINER_NAME = config['SOURCE_CONTAINER_NAME']\n",
        "SOURCE_FILE_NAME = config['SOURCE_FILE_NAME']\n",
        "\n",
        "# read information about the destination\n",
        "DESTINATION_CONNECTION_STRING = config['DESTINATION_CONNECTION_STRING']\n",
        "DESTINATION_CONTAINER_NAME = config['DESTINATION_CONTAINER_NAME']\n",
        "DESTINATION_FILE_NAME = config['DESTINATION_FILE_NAME']\n",
        "\n",
        "# read information about mongodb\n",
        "MONGODB_CONNECTION_STRING = config['MONGODB_CONNECTION_STRING']\n",
        "MONGO_DB_NAME = config['MONGO_DB_NAME']\n",
        "MONGO_COLLECTION_NAME = config['MONGO_COLLECTION_NAME']"
      ],
      "metadata": {
        "id": "G9Jk9hubIiOL"
      },
      "execution_count": null,
      "outputs": []
    },
    {
      "cell_type": "code",
      "source": [
        "# read from source to destination azure blob\n",
        "# read from source to destination azure blob\n",
        "\n",
        "# Instantiate BlobServiceClient for the source\n",
        "source_blob_service_client = BlobServiceClient.from_connection_string(SOURCE_CONNECTION_STRING)\n",
        "\n",
        "# Get a client for the source blob\n",
        "source_blob_client = source_blob_service_client.get_blob_client(container=SOURCE_CONTAINER_NAME, blob=SOURCE_FILE_NAME)\n",
        "\n",
        "# Get the URL of the source blob\n",
        "source_blob_url = source_blob_client.url\n",
        "\n",
        "# Instantiate BlobServiceClient for the destination\n",
        "destination_blob_service_client = BlobServiceClient.from_connection_string(DESTINATION_CONNECTION_STRING)\n",
        "\n",
        "# Get a client for the destination container\n",
        "destination_container_client = destination_blob_service_client.get_container_client(DESTINATION_CONTAINER_NAME)\n",
        "\n",
        "# Start the copy operation\n",
        "# The copy_from_url method initiates an asynchronous copy\n",
        "copy_status = destination_container_client.copy_blob_from_url(\n",
        "    DESTINATION_FILE_NAME,  # Name for the new blob at the destination\n",
        "    source_blob_url\n",
        ")\n",
        "\n",
        "print(f\"Copy operation initiated from '{SOURCE_FILE_NAME}' in '{SOURCE_CONTAINER_NAME}' to '{DESTINATION_FILE_NAME}' in '{DESTINATION_CONTAINER_NAME}'.\")\n",
        "# You might want to check the status of the copy operation later if it's a large file.\n",
        "# For example:\n",
        "# destination_blob_client = destination_blob_service_client.get_blob_client(DESTINATION_CONTAINER_NAME, DESTINATION_FILE_NAME)\n",
        "# properties = destination_blob_client.get_blob_properties()\n",
        "# print(f\"Copy status: {properties.copy.status}\")"
      ],
      "metadata": {
        "id": "yriKwAbeacYK"
      },
      "execution_count": null,
      "outputs": []
    }
  ]
}