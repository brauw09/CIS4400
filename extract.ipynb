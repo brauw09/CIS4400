{
  "nbformat": 4,
  "nbformat_minor": 0,
  "metadata": {
    "colab": {
      "provenance": [],
      "include_colab_link": true
    },
    "kernelspec": {
      "name": "python3",
      "display_name": "Python 3"
    },
    "language_info": {
      "name": "python"
    }
  },
  "cells": [
    {
      "cell_type": "markdown",
      "metadata": {
        "id": "view-in-github",
        "colab_type": "text"
      },
      "source": [
        "<a href=\"https://colab.research.google.com/github/Syed2422/CIS4400/blob/main/extract.ipynb\" target=\"_parent\"><img src=\"https://colab.research.google.com/assets/colab-badge.svg\" alt=\"Open In Colab\"/></a>"
      ]
    },
    {
      "cell_type": "code",
      "execution_count": null,
      "metadata": {
        "id": "L65ns6kFF-SG"
      },
      "outputs": [],
      "source": [
        "!pip install azure-storage-blob\n",
        "!pip install pymongo"
      ]
    },
    {
      "cell_type": "code",
      "source": [
        "import pandas as pd\n",
        "import pymongo\n",
        "from pymongo import MongoClient\n",
        "from azure.storage.blob import BlobServiceClient, BlobClient, ContainerClient"
      ],
      "metadata": {
        "id": "qJjb6x0yIBf1"
      },
      "execution_count": null,
      "outputs": []
    },
    {
      "cell_type": "code",
      "source": [
        "# read the config file that is json\n",
        "import json\n",
        "with open('config.json') as config_file:\n",
        "    config = json.load(config_file)\n",
        "\n",
        "# read information about the source\n",
        "SOURCE_CONNECTION_STRING = config['SOURCE_CONNECTION_STRING']\n",
        "SOURCE_CONTAINER_NAME = config['SOURCE_CONTAINER_NAME']\n",
        "SOURCE_FILE_NAME = config['SOURCE_FILE_NAME']\n",
        "\n",
        "# read information about the destination\n",
        "DESTINATION_CONNECTION_STRING = config['DESTINATION_CONNECTION_STRING']\n",
        "DESTINATION_CONTAINER_NAME = config['DESTINATION_CONTAINER_NAME']\n",
        "DESTINATION_FILE_NAME = config['DESTINATION_FILE_NAME']\n",
        "\n",
        "# read information about mongodb\n",
        "MONGODB_CONNECTION_STRING = config['MONGODB_CONNECTION_STRING']\n",
        "MONGO_DB_NAME = config['MONGO_DB_NAME']\n",
        "MONGO_COLLECTION_NAME = config['MONGO_COLLECTION_NAME']"
      ],
      "metadata": {
        "id": "G9Jk9hubIiOL"
      },
      "execution_count": null,
      "outputs": []
    },
    {
      "cell_type": "code",
      "source": [
        "# read from source to destination azure blob\n",
        "\n",
        "# Instantiate BlobServiceClient for the source\n",
        "source_blob_service_client = BlobServiceClient.from_connection_string(SOURCE_CONNECTION_STRING)\n",
        "\n",
        "# Get a client for the source blob to get its URL\n",
        "source_blob_client = source_blob_service_client.get_blob_client(container=SOURCE_CONTAINER_NAME, blob=SOURCE_FILE_NAME)\n",
        "\n",
        "# download the file to a specific folder\n",
        "with open(\"downloaded_file.csv\", \"wb\") as my_blob:\n",
        "    download_stream = source_blob_client.download_blob()\n",
        "    my_blob.write(download_stream.readall())\n",
        "\n",
        "# upload to the destination\n",
        "destination_blob_service_client = BlobServiceClient.from_connection_string(DESTINATION_CONNECTION_STRING)\n",
        "\n",
        "# Get a client for the destination container\n",
        "destination_container_client = destination_blob_service_client.get_container_client(DESTINATION_CONTAINER_NAME)\n",
        "\n",
        "# Upload the downloaded file to the destination\n",
        "with open(\"downloaded_file.csv\", \"rb\") as data:\n",
        "    destination_blob_client = destination_container_client.upload_blob(name=DESTINATION_FILE_NAME, data=data, overwrite=True)\n",
        "\n",
        "print(f\"Downloaded file uploaded to Azure Blob '{DESTINATION_FILE_NAME}' in container '{DESTINATION_CONTAINER_NAME}'.\")"
      ],
      "metadata": {
        "id": "x1MznmKEdJrm"
      },
      "execution_count": null,
      "outputs": []
    }
  ]
}